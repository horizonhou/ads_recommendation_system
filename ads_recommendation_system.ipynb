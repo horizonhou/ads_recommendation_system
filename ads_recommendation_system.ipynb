{
 "cells": [
  {
   "cell_type": "markdown",
   "metadata": {},
   "source": [
    "# ORIE 5355/INFO 5370 HW 2: Recommendation systems"
   ]
  },
  {
   "cell_type": "markdown",
   "metadata": {},
   "source": [
    " - Name: Ruize Hou\n",
    " - Net-id: rh553\n",
    " - Date: 09/27/2022\n",
    " - Late days used for this assignment: 0\n",
    " - Total late days used (counting this assignment): 1\n",
    " - People with whom you discussed this assignment:"
   ]
  },
  {
   "cell_type": "markdown",
   "metadata": {},
   "source": [
    "After you finish the homework, please complete the following (short, anonymous) post-homework survey: https://forms.gle/7tFZUoDszbDeDKmV6 and include the survey completion code below."
   ]
  },
  {
   "cell_type": "markdown",
   "metadata": {},
   "source": [
    "### Question 0 [2 points]\n",
    "<font color='blue'> Survey completion code: hw22022xyz"
   ]
  },
  {
   "cell_type": "markdown",
   "metadata": {},
   "source": [
    "Survey completion code: hw22022xyz"
   ]
  },
  {
   "cell_type": "markdown",
   "metadata": {},
   "source": [
    "We have marked questions in <font color='blue'> blue </font>. Please put answers in black (do not change colors). You'll want to write text answers in \"markdown\" mode instead of code. In Jupyter notebook, you can go to Cell > Cell Type > Markdown, from the menu. Please carefully read the late days policy and grading procedure [here](https://orie5355.github.io/Fall_2021/assignments/). "
   ]
  },
  {
   "cell_type": "markdown",
   "metadata": {},
   "source": [
    "# Conceptual component"
   ]
  },
  {
   "cell_type": "markdown",
   "metadata": {},
   "source": [
    "Go through the \"Algorithms tour\" [here](https://algorithms-tour.stitchfix.com/). It's a great view of the combination of algorithms used by a modern e-commerce company. "
   ]
  },
  {
   "cell_type": "markdown",
   "metadata": {},
   "source": [
    "<font color='blue'> 1) How do they use a combination of \"latent\" factors and explicit features to gain the benefits of collaborative filtering (matrix factorization) while not being susceptible to cold start issues?"
   ]
  },
  {
   "cell_type": "markdown",
   "metadata": {},
   "source": [
    "They use clients' fit feedback and purchase histories to learn the how specific clients and styles positioned in some measurements, for example the accurate size of blouses as discussed in the article. Also, the company collects basic informations from clients and has a collection of information for clothes. These explicit factors will keep them from facing cold start problem. "
   ]
  },
  {
   "cell_type": "markdown",
   "metadata": {},
   "source": [
    "<font color='blue'> 2) How do they match clients with human stylists who make the final decision? Does it remind you of anything we learned in class?"
   ]
  },
  {
   "cell_type": "markdown",
   "metadata": {},
   "source": [
    "First they calculate a match score for current available stylist and awaiting clients, this score is calculated based on the history interaction between the stylist and the client, and the stated and latent style preferences for the client and the stylist. Then they optimize the overall match score, running it frequently to keep up with the current available stylist and awaiting clients. This process is similar to the challenge of recommending with capacity contraints we learned in class. We have M users and N stylists, and we want to recommend one stylist to each user. We should optimize the global match score instead of individual match score."
   ]
  },
  {
   "cell_type": "markdown",
   "metadata": {},
   "source": [
    "<font color='blue'> 3) How do they manage their inventory to ensure that they have enough items that future customers will want?"
   ]
  },
  {
   "cell_type": "markdown",
   "metadata": {},
   "source": [
    "They first track and analyze the state of users to understand their needs. Then they use demand models such as Markov Chains to predict the demand of inventory in the future to make sure there is enough clothes and stylist to serve the clients. This is essential because it takes months for inventory to arrive at the warehouse. In the process of inventory management, they also use the systems dynamic to optimize the timing of purchases, allocation of warehouses, to minimize cost and maximize profit. They also develop new clothes to upgrade their inventory using genetic algorithm."
   ]
  },
  {
   "cell_type": "markdown",
   "metadata": {},
   "source": [
    "# Programming component"
   ]
  },
  {
   "cell_type": "markdown",
   "metadata": {},
   "source": [
    "## Helper code"
   ]
  },
  {
   "cell_type": "code",
   "execution_count": 8,
   "metadata": {},
   "outputs": [],
   "source": [
    "import numpy as np\n",
    "import pandas as pd\n",
    "import os, sys, math\n",
    "import matplotlib.pyplot as plt\n",
    "import pickle\n",
    "def load_pickle(filename):\n",
    "    with open(filename, \"rb\") as f:\n",
    "        data = pickle.load(f)\n",
    "    return data\n",
    "\n",
    "def load_ratings_and_factors(type_name = 'interaction'):\n",
    "    ratings = load_pickle('data/{}_ratings'.format(type_name))\n",
    "    book_vectors = load_pickle('data/{}_dict_book_factor'.format(type_name))\n",
    "    user_vectors = load_pickle('data/{}_dict_reader_factor'.format(type_name))\n",
    "    return ratings, book_vectors, user_vectors"
   ]
  },
  {
   "cell_type": "markdown",
   "metadata": {},
   "source": [
    "In this homework, we are giving you trained user and book item vectors using a GoodReads dataset. Goodreads is a social cataloging website that allows individuals to search its database of books, annotations, quotes, and reviews. There are multiple types of interactions that a user can have with a book: add books to a list of books they intend to read (\"short-list\" the book), indicate they have read books before, and review books they have read. \n",
    "\n",
    "Here, we work with multiple types of interactions as training data for a recommendation system. For each \"type\" of rating data, we give you the raw ratings data, as well as user and item vectors trained using a Python package (https://berkeley-reclab.github.io/) that implements matrix factorization in cases where there are missing entries in a matrix. The \"ratings\" data is in a \"sparse matrix\"/dictionary format, meaning that the dictionary keys are of the kind (user, item), and the dictionary value is the corresponding value. Not all pairs are in the matrix, indicating that that value is missing or at its default value. \n",
    "\n",
    "There are 4 types of rating/interaction data:\n",
    "\n",
    " - `Interaction`: a \"1\" indicates the user has interacted with the book at some point in the past, either by saying that they intend to read it, have read it, or have given it a rating. If it is missing, that means the user has not interacted with the book.\n",
    " \n",
    " - `Explicit Rating`: explicit ratings. Numeric values indicate the ratings given. If it is missing, that means the user has not rated the book.\n",
    "  \n",
    " - `Rating_all_zero`: explicit ratings. Numeric values more than 0 indicate the ratings given. Now, we replace missing values from above with \"zeros,\" so that there are no missing ratings.\n",
    " \n",
    " - `Rating_interaction_zero`: explicit ratings. Numeric values more than 0 indicate the ratings given. Now, we replace missing values from above with \"zeros,\" only if the user interacted with that book in the past."
   ]
  },
  {
   "cell_type": "code",
   "execution_count": 9,
   "metadata": {},
   "outputs": [],
   "source": [
    "ratings_interactions, book_vectors_interactions, user_vectors_interactions = load_ratings_and_factors(type_name = 'interaction')\n",
    "ratings_explicit, book_vectors_explicit, user_vectors_explicit = load_ratings_and_factors(type_name = 'rating')\n",
    "ratings_allmissing0, book_vectors_allmissing0, user_vectors_allmissing0 = load_ratings_and_factors(type_name = 'rating_all_zero')\n",
    "ratings_interact0, book_vectors_interact0, user_vectors_interact0 = load_ratings_and_factors(type_name = 'rating_interaction_zero')\n"
   ]
  },
  {
   "cell_type": "code",
   "execution_count": 3,
   "metadata": {},
   "outputs": [],
   "source": [
    "def get_shapes_and_ranges(ratings, book_vectors, item_vectors):\n",
    "    print(len(ratings), np.shape(book_vectors), np.shape(item_vectors), min(ratings.values()), max(ratings.values()))"
   ]
  },
  {
   "cell_type": "code",
   "execution_count": 4,
   "metadata": {},
   "outputs": [
    {
     "name": "stdout",
     "output_type": "stream",
     "text": [
      "12238 (200, 10) (1000, 10) 1 1\n",
      "8324 (200, 10) (1000, 10) 1 5\n",
      "200000 (200, 10) (1000, 10) 0 5\n",
      "12238 (200, 10) (1000, 10) 0 5\n"
     ]
    }
   ],
   "source": [
    "get_shapes_and_ranges(ratings_interactions, book_vectors_interactions, user_vectors_interactions)\n",
    "get_shapes_and_ranges(ratings_explicit, book_vectors_explicit, user_vectors_explicit)\n",
    "get_shapes_and_ranges(ratings_allmissing0, book_vectors_allmissing0, user_vectors_allmissing0)\n",
    "get_shapes_and_ranges(ratings_interact0, book_vectors_interact0, user_vectors_interact0)"
   ]
  },
  {
   "cell_type": "markdown",
   "metadata": {},
   "source": [
    "## Problem 1: Predictions and recommendations with different data types"
   ]
  },
  {
   "cell_type": "markdown",
   "metadata": {},
   "source": [
    "### 1a) What do different data types mean?"
   ]
  },
  {
   "cell_type": "markdown",
   "metadata": {},
   "source": [
    "<font color='blue'> What is `Rating_interaction_zero` trying to capture -- why would we fill in books that someone interacted with but did not rate as a 0? (Hint: connect to conceptual reading from HW1). Answer in no more than 3 sentences. "
   ]
  },
  {
   "cell_type": "markdown",
   "metadata": {},
   "source": [
    "As we learned from HW1, people who has a good experience tend to rate, whereas those who does not receive a satisfied experience tend to keep silence. So we can assume that people who had read the book but did not leave a rating is likely to have a bad experience, and we fill it as 0."
   ]
  },
  {
   "cell_type": "markdown",
   "metadata": {},
   "source": [
    "<font color='blue'> What are some potential problems you see with using `rating_all_zero` for recommendations? Answer in no more than 3 sentences.\n",
    "    \n",
    "    "
   ]
  },
  {
   "cell_type": "markdown",
   "metadata": {},
   "source": [
    "We can not directly guess rating 0 to be 0 for those who haven't read the book. Because even they did not read the book, it does not mean that they do not like the book. They might have read books that is similar to it. Instead, we should guess the rating based on similar readers on the book, or their rating on similar type of book."
   ]
  },
  {
   "cell_type": "markdown",
   "metadata": {},
   "source": [
    "### 1b) Generating predictions"
   ]
  },
  {
   "cell_type": "markdown",
   "metadata": {},
   "source": [
    "<font color='blue'> Fill in the following function that takes in a user matrix (where each row is 1 user vector) and an item matrix (where each row is 1 item vector), and returns a matrix of predicted ratings for each user and item, where each entry is associated with the corresponding user (row number) and item (column number)"
   ]
  },
  {
   "cell_type": "code",
   "execution_count": 524,
   "metadata": {
    "scrolled": true
   },
   "outputs": [],
   "source": [
    "#user_vectors_interactions"
   ]
  },
  {
   "cell_type": "code",
   "execution_count": 22,
   "metadata": {},
   "outputs": [],
   "source": [
    "def get_predictions(user_vectors, book_vectors):\n",
    "    rating = np.dot(user_vectors, book_vectors.transpose())\n",
    "    return rating"
   ]
  },
  {
   "cell_type": "markdown",
   "metadata": {},
   "source": [
    "<font color='blue'> Output the predictions for first 10 items for the first user, using each of the 4 data types.\n",
    "\n",
    "For example, the predictions for one of the data types are:\n",
    "\n",
    "Ratings for first 10 items,  interactions:\n",
    "[-0.003  0.01   0.002 -0.001  0.003  0.007 -0.01   0.007  0.001  0.003]"
   ]
  },
  {
   "cell_type": "code",
   "execution_count": 281,
   "metadata": {},
   "outputs": [
    {
     "name": "stdout",
     "output_type": "stream",
     "text": [
      "Ratings for first 10 items, interactions: [-0.00268685  0.01007861  0.00173543 -0.0009836   0.0029315   0.00733778\n",
      " -0.01030278  0.00722029  0.00110368  0.00335202]\n",
      "Ratings for first 10 items, explicit: [ 0.07256422  0.40674721  0.07614967 -0.0750923   0.17636483  0.95914661\n",
      " -0.23892582 -0.00221766 -0.91204988  0.65839933]\n",
      "Ratings for first 10 items, allmissing0: [ 0.08031172  0.28975416  0.06345163  1.5695302  -0.18567229  0.05502522\n",
      "  0.01107722 -0.08822294 -0.89503553 -0.01175208]\n",
      "Ratings for first 10 items, interact0: [-1.00879311  4.16663033 -0.91856862 -0.30194806 -2.52606751 -0.18905701\n",
      " -3.08103904 -0.53718459 -1.18618829 -1.21838417]\n"
     ]
    }
   ],
   "source": [
    "print(\"Ratings for first 10 items, interactions:\", get_predictions(user_vectors_interactions, book_vectors_interactions)[0,:10])\n",
    "print(\"Ratings for first 10 items, explicit:\", get_predictions(user_vectors_explicit, book_vectors_explicit)[0,:10])\n",
    "print(\"Ratings for first 10 items, allmissing0:\", get_predictions(user_vectors_allmissing0, book_vectors_allmissing0)[0,:10])\n",
    "print(\"Ratings for first 10 items, interact0:\", get_predictions(user_vectors_interact0, book_vectors_interact0)[0,:10])"
   ]
  },
  {
   "cell_type": "code",
   "execution_count": 283,
   "metadata": {},
   "outputs": [
    {
     "data": {
      "text/plain": [
       "array([ 0.31447641, -1.66492659,  0.39016051,  0.85296669,  0.49336059,\n",
       "       -1.41528032,  0.37009633,  0.85605557, -1.51576328,  0.21147052])"
      ]
     },
     "execution_count": 283,
     "metadata": {},
     "output_type": "execute_result"
    }
   ],
   "source": [
    "get_predictions(user_vectors_interact0, book_vectors_interact0)[900,:10]"
   ]
  },
  {
   "cell_type": "markdown",
   "metadata": {},
   "source": [
    "<font color='blue'> Do a scatterplot of the predicted rating for the \"interaction\" and \"explicit ratings\" types. (Each dot represents one user and one book, with X axis being predicted ratings using interaction data and Y axis being predicted rating using explicit ratings). Describe what you see in no more than 2 sentences. "
   ]
  },
  {
   "cell_type": "code",
   "execution_count": 69,
   "metadata": {},
   "outputs": [],
   "source": [
    "interaction = get_predictions(user_vectors_interactions, book_vectors_interactions)\n",
    "explicit_ratings = get_predictions(user_vectors_explicit, book_vectors_explicit)\n",
    "allmissing0 = get_predictions(user_vectors_allmissing0, book_vectors_allmissing0)\n",
    "interact0 = get_predictions(user_vectors_interact0, book_vectors_interact0)"
   ]
  },
  {
   "cell_type": "code",
   "execution_count": 449,
   "metadata": {},
   "outputs": [
    {
     "data": {
      "text/plain": [
       "(1000, 200)"
      ]
     },
     "execution_count": 449,
     "metadata": {},
     "output_type": "execute_result"
    }
   ],
   "source": [
    "interact0.shape"
   ]
  },
  {
   "cell_type": "code",
   "execution_count": 66,
   "metadata": {},
   "outputs": [
    {
     "data": {
      "image/png": "[encoded data removed]",
      "text/plain": [
       "<Figure size 432x288 with 1 Axes>"
      ]
     },
     "metadata": {
      "needs_background": "light"
     },
     "output_type": "display_data"
    }
   ],
   "source": [
    "plt.scatter(interaction, explicit_ratings)\n",
    "plt.xlabel(\"interaction\")\n",
    "plt.ylabel(\"explicit_rating\")\n",
    "plt.title(\"interaction vs explicit rating\")\n",
    "plt.show()"
   ]
  },
  {
   "cell_type": "markdown",
   "metadata": {},
   "source": [
    "We can see a positive relationship between interaction and explicit rating. This is reasonable because interaction and explicit rating both indicating whether the user has read the book."
   ]
  },
  {
   "cell_type": "markdown",
   "metadata": {},
   "source": [
    "### 1c) From predictions to recommendations (without capacity constraints)"
   ]
  },
  {
   "cell_type": "markdown",
   "metadata": {},
   "source": [
    "<font color='blue'> Fill in the following function that takes in the matrix of predicted ratings for each user and item, and returns a dictioanry where the keys are the user indices and the values are a list of length \"number_top_items\" indicating the recommendations given to that user"
   ]
  },
  {
   "cell_type": "code",
   "execution_count": 339,
   "metadata": {},
   "outputs": [],
   "source": [
    "def get_recommendations_for_each_user(predictions, number_top_items):\n",
    "    top_rec = dict()\n",
    "    for i in range(len(predictions)):\n",
    "        pred_i = sorted(predictions[i,])\n",
    "        top_pred = pred_i[len(predictions[i,])-number_top_items:]\n",
    "        top_pred = list(top_pred)\n",
    "        top_pred.reverse()\n",
    "        #find index\n",
    "        top_pred_ind = []\n",
    "        for k in range(len(top_pred)):\n",
    "            top_pred_index = list(predictions[i,]).index(top_pred[k])\n",
    "            top_pred_ind.append(top_pred_index)\n",
    "        top_rec[str(i)] = top_pred_ind\n",
    "    return(top_rec)\n",
    "    pass"
   ]
  },
  {
   "cell_type": "markdown",
   "metadata": {},
   "source": [
    "<font color='blue'> Output the recommendations for the first user, using each of the 4 data types.\n",
    "\n",
    "For example, from the \"Interaction\" dataset, you should get: [182, 198, 19, 100, 104, 73, 30, 199, 164, 74]"
   ]
  },
  {
   "cell_type": "code",
   "execution_count": 351,
   "metadata": {},
   "outputs": [
    {
     "name": "stdout",
     "output_type": "stream",
     "text": [
      "Recommendation for interaction: [74, 164, 199, 30, 73, 104, 100, 19, 198, 182]\n",
      "Recommendation for explicit: [30, 164, 121, 87, 199, 116, 108, 124, 5, 93]\n",
      "Recommendation for allmissing0: [57, 55, 56, 81, 50, 78, 58, 86, 77, 96]\n",
      "Recommendation for interact0: [166, 53, 1, 111, 170, 74, 182, 37, 73, 52]\n"
     ]
    }
   ],
   "source": [
    "print(\"Recommendation for interaction:\", get_recommendations_for_each_user(interaction, 10)['0'])\n",
    "print(\"Recommendation for explicit:\", get_recommendations_for_each_user(explicit_ratings, 10)['0'])\n",
    "print(\"Recommendation for allmissing0:\", get_recommendations_for_each_user(allmissing0, 10)['0'])\n",
    "print(\"Recommendation for interact0:\", get_recommendations_for_each_user(interact0, 10)['0'])"
   ]
  },
  {
   "cell_type": "code",
   "execution_count": 356,
   "metadata": {},
   "outputs": [
    {
     "name": "stdout",
     "output_type": "stream",
     "text": [
      "0.019969756958966873\n",
      "0.013907620837791113\n"
     ]
    }
   ],
   "source": [
    "print(interaction[0,74])\n",
    "print(interaction[0,182])"
   ]
  },
  {
   "cell_type": "code",
   "execution_count": 525,
   "metadata": {},
   "outputs": [],
   "source": [
    "#sorted(z)"
   ]
  },
  {
   "cell_type": "markdown",
   "metadata": {},
   "source": [
    "<font color='blue'> Fill in the following function that takes in the (top 10) recommendations for each user, and outputs a histogram for how often each item is to be recommended. For example, if there are 18 items, and 10 of them were never recommended, 5 of them were recommended once each, and 3 of them were recommended five times each, then you would have bars at 0, 1, and 5, of height 10, 5, and 3, respectively."
   ]
  },
  {
   "cell_type": "code",
   "execution_count": 114,
   "metadata": {},
   "outputs": [],
   "source": [
    "interaction_top10 = get_recommendations_for_each_user(interaction, 10)\n",
    "explicit_top10 = get_recommendations_for_each_user(explicit_ratings, 10)"
   ]
  },
  {
   "cell_type": "code",
   "execution_count": 535,
   "metadata": {},
   "outputs": [],
   "source": [
    "def show_frequency_histograms(recommendations):\n",
    "    my_index = list(range(len(book_vectors_interactions)))\n",
    "    my_count = [0]*len(my_index)\n",
    "    for i in range(len(recommendations)):\n",
    "        for j in range(len(recommendations[str(i)])):\n",
    "            my_count[recommendations[str(i)][j]] += 1\n",
    "    \n",
    "    plt.hist(my_count, bins=200)\n",
    "    plt.xlabel(\"Number of recommendations\")\n",
    "    plt.ylabel(\"Density\")\n",
    "    plt.show()\n",
    "    return 0       \n",
    "    pass"
   ]
  },
  {
   "cell_type": "code",
   "execution_count": 536,
   "metadata": {},
   "outputs": [],
   "source": [
    "my_index = list(range(len(book_vectors_interactions)))"
   ]
  },
  {
   "cell_type": "code",
   "execution_count": 537,
   "metadata": {},
   "outputs": [
    {
     "data": {
      "image/png": "[encoded data removed]",
      "text/plain": [
       "<Figure size 432x288 with 1 Axes>"
      ]
     },
     "metadata": {
      "needs_background": "light"
     },
     "output_type": "display_data"
    },
    {
     "data": {
      "text/plain": [
       "0"
      ]
     },
     "execution_count": 537,
     "metadata": {},
     "output_type": "execute_result"
    }
   ],
   "source": [
    "show_frequency_histograms(interaction_top10)"
   ]
  },
  {
   "cell_type": "markdown",
   "metadata": {},
   "source": [
    "<font color='blue'> Show the histograms for the \"interact\" and \"explicit\" data types. Describe what you observe in no more than 3 sentences. For example, discuss how often is the most recommended item recommended, how that compares to the least recommended items, and what that could mean for recommendations in various contexts. "
   ]
  },
  {
   "cell_type": "code",
   "execution_count": 538,
   "metadata": {
    "scrolled": true
   },
   "outputs": [
    {
     "data": {
      "image/png": "[encoded data removed]",
      "text/plain": [
       "<Figure size 432x288 with 1 Axes>"
      ]
     },
     "metadata": {
      "needs_background": "light"
     },
     "output_type": "display_data"
    },
    {
     "data": {
      "text/plain": [
       "0"
      ]
     },
     "execution_count": 538,
     "metadata": {},
     "output_type": "execute_result"
    }
   ],
   "source": [
    "show_frequency_histograms(interaction_top10)"
   ]
  },
  {
   "cell_type": "code",
   "execution_count": 539,
   "metadata": {
    "scrolled": true
   },
   "outputs": [
    {
     "data": {
      "image/png": "[encoded data removed]",
      "text/plain": [
       "<Figure size 432x288 with 1 Axes>"
      ]
     },
     "metadata": {
      "needs_background": "light"
     },
     "output_type": "display_data"
    },
    {
     "data": {
      "text/plain": [
       "0"
      ]
     },
     "execution_count": 539,
     "metadata": {},
     "output_type": "execute_result"
    }
   ],
   "source": [
    "show_frequency_histograms(explicit_top10)"
   ]
  },
  {
   "cell_type": "markdown",
   "metadata": {},
   "source": [
    "We can see that 80, nearly half of the items are not recommended without applying capacity constraints using interaction. The number decreases when using the explicit rating. There exists items that reach almost 300 recommendations using interaction, which the recommendation result is very polarized. Using the explicit rating gives us a more balanced result."
   ]
  },
  {
   "cell_type": "markdown",
   "metadata": {},
   "source": [
    "# Problem 2: Cold start -- recommendations for new users"
   ]
  },
  {
   "cell_type": "markdown",
   "metadata": {},
   "source": [
    "In this part of the assignment, we are going to ask you to tackle the \"cold-start\" problem with matrix-factorization based recommendation systems. The above recommendation techniques worked when you had access to past data for reach user, such as interactions or explicit ratings. However, it doesn't work as well when a new user has just joined the platform and so the platform doesn't have any data.  \n",
    "\n",
    "You should also see a comma-separated values file (user_demographics.csv) that contains basic demographic information on each user. Each row describes one user, and have four attributes: 'User ID', 'Wealth', 'Age group' and 'Location'.\n",
    "\n",
    "User ID is the unique identifier associated with each user, and it is in the same order as the user_vectors, and in the same indexing as the ratings (be careful about 0 and 1 indexing in Python).\n",
    "\n",
    "Wealth is a non-negative, normalized value indicating the average wealth of the neighborhood in which the user is, where we normalized it such that each Location has similar wealth distributions. Age group describes the age of the user. Location describes the region that the user is from."
   ]
  },
  {
   "cell_type": "code",
   "execution_count": 128,
   "metadata": {
    "scrolled": true
   },
   "outputs": [
    {
     "data": {
      "text/html": [
       "<div>\n",
       "<style scoped>\n",
       "    .dataframe tbody tr th:only-of-type {\n",
       "        vertical-align: middle;\n",
       "    }\n",
       "\n",
       "    .dataframe tbody tr th {\n",
       "        vertical-align: top;\n",
       "    }\n",
       "\n",
       "    .dataframe thead th {\n",
       "        text-align: right;\n",
       "    }\n",
       "</style>\n",
       "<table border=\"1\" class=\"dataframe\">\n",
       "  <thead>\n",
       "    <tr style=\"text-align: right;\">\n",
       "      <th></th>\n",
       "      <th>User ID</th>\n",
       "      <th>Wealth</th>\n",
       "      <th>Age group</th>\n",
       "      <th>Location</th>\n",
       "    </tr>\n",
       "  </thead>\n",
       "  <tbody>\n",
       "    <tr>\n",
       "      <th>0</th>\n",
       "      <td>1</td>\n",
       "      <td>1.833101</td>\n",
       "      <td>50 to 64</td>\n",
       "      <td>America</td>\n",
       "    </tr>\n",
       "    <tr>\n",
       "      <th>1</th>\n",
       "      <td>2</td>\n",
       "      <td>2.194996</td>\n",
       "      <td>18 to 34</td>\n",
       "      <td>America</td>\n",
       "    </tr>\n",
       "    <tr>\n",
       "      <th>2</th>\n",
       "      <td>3</td>\n",
       "      <td>2.216195</td>\n",
       "      <td>18 to 34</td>\n",
       "      <td>Europe</td>\n",
       "    </tr>\n",
       "    <tr>\n",
       "      <th>3</th>\n",
       "      <td>4</td>\n",
       "      <td>0.838690</td>\n",
       "      <td>50 to 64</td>\n",
       "      <td>Asia Pacific</td>\n",
       "    </tr>\n",
       "    <tr>\n",
       "      <th>4</th>\n",
       "      <td>5</td>\n",
       "      <td>2.109313</td>\n",
       "      <td>18 to 34</td>\n",
       "      <td>America</td>\n",
       "    </tr>\n",
       "  </tbody>\n",
       "</table>\n",
       "</div>"
      ],
      "text/plain": [
       "   User ID    Wealth Age group      Location\n",
       "0        1  1.833101  50 to 64       America\n",
       "1        2  2.194996  18 to 34       America\n",
       "2        3  2.216195  18 to 34        Europe\n",
       "3        4  0.838690  50 to 64  Asia Pacific\n",
       "4        5  2.109313  18 to 34       America"
      ]
     },
     "execution_count": 128,
     "metadata": {},
     "output_type": "execute_result"
    }
   ],
   "source": [
    "demographics = pd.read_csv(\"data/user_demographics.csv\")\n",
    "demographics.head()"
   ]
  },
  {
   "cell_type": "markdown",
   "metadata": {},
   "source": [
    "We are now going to pretend that we don't have the personalized ratings/interactions history for the last 100 users, and thus don't have their user vectors. Rather, let's pretend that these are new users to the platform, and you are able to get the above demographics from their browswer cookies/IP address. Now, we're going to try to recommend items for them anyway. For this part, we'll exclusively use the \"ratings with interaction0\" data."
   ]
  },
  {
   "cell_type": "code",
   "execution_count": 129,
   "metadata": {},
   "outputs": [],
   "source": [
    "existing_user_vectors = user_vectors_interact0[0:900,:]\n",
    "existing_user_demographics = demographics.iloc[0:900,:]\n",
    "new_user_demographics = demographics.iloc[900:,:]"
   ]
  },
  {
   "cell_type": "code",
   "execution_count": 540,
   "metadata": {
    "scrolled": false
   },
   "outputs": [],
   "source": [
    "#existing_user_vectors"
   ]
  },
  {
   "cell_type": "code",
   "execution_count": 134,
   "metadata": {},
   "outputs": [
    {
     "data": {
      "text/html": [
       "<div>\n",
       "<style scoped>\n",
       "    .dataframe tbody tr th:only-of-type {\n",
       "        vertical-align: middle;\n",
       "    }\n",
       "\n",
       "    .dataframe tbody tr th {\n",
       "        vertical-align: top;\n",
       "    }\n",
       "\n",
       "    .dataframe thead th {\n",
       "        text-align: right;\n",
       "    }\n",
       "</style>\n",
       "<table border=\"1\" class=\"dataframe\">\n",
       "  <thead>\n",
       "    <tr style=\"text-align: right;\">\n",
       "      <th></th>\n",
       "      <th>User ID</th>\n",
       "      <th>Wealth</th>\n",
       "      <th>Age group</th>\n",
       "      <th>Location</th>\n",
       "    </tr>\n",
       "  </thead>\n",
       "  <tbody>\n",
       "    <tr>\n",
       "      <th>0</th>\n",
       "      <td>1</td>\n",
       "      <td>1.833101</td>\n",
       "      <td>50 to 64</td>\n",
       "      <td>America</td>\n",
       "    </tr>\n",
       "    <tr>\n",
       "      <th>1</th>\n",
       "      <td>2</td>\n",
       "      <td>2.194996</td>\n",
       "      <td>18 to 34</td>\n",
       "      <td>America</td>\n",
       "    </tr>\n",
       "    <tr>\n",
       "      <th>2</th>\n",
       "      <td>3</td>\n",
       "      <td>2.216195</td>\n",
       "      <td>18 to 34</td>\n",
       "      <td>Europe</td>\n",
       "    </tr>\n",
       "    <tr>\n",
       "      <th>3</th>\n",
       "      <td>4</td>\n",
       "      <td>0.838690</td>\n",
       "      <td>50 to 64</td>\n",
       "      <td>Asia Pacific</td>\n",
       "    </tr>\n",
       "    <tr>\n",
       "      <th>4</th>\n",
       "      <td>5</td>\n",
       "      <td>2.109313</td>\n",
       "      <td>18 to 34</td>\n",
       "      <td>America</td>\n",
       "    </tr>\n",
       "  </tbody>\n",
       "</table>\n",
       "</div>"
      ],
      "text/plain": [
       "   User ID    Wealth Age group      Location\n",
       "0        1  1.833101  50 to 64       America\n",
       "1        2  2.194996  18 to 34       America\n",
       "2        3  2.216195  18 to 34        Europe\n",
       "3        4  0.838690  50 to 64  Asia Pacific\n",
       "4        5  2.109313  18 to 34       America"
      ]
     },
     "execution_count": 134,
     "metadata": {},
     "output_type": "execute_result"
    }
   ],
   "source": [
    "existing_user_demographics.head()"
   ]
  },
  {
   "cell_type": "code",
   "execution_count": 260,
   "metadata": {},
   "outputs": [
    {
     "data": {
      "text/html": [
       "<div>\n",
       "<style scoped>\n",
       "    .dataframe tbody tr th:only-of-type {\n",
       "        vertical-align: middle;\n",
       "    }\n",
       "\n",
       "    .dataframe tbody tr th {\n",
       "        vertical-align: top;\n",
       "    }\n",
       "\n",
       "    .dataframe thead th {\n",
       "        text-align: right;\n",
       "    }\n",
       "</style>\n",
       "<table border=\"1\" class=\"dataframe\">\n",
       "  <thead>\n",
       "    <tr style=\"text-align: right;\">\n",
       "      <th></th>\n",
       "      <th>User ID</th>\n",
       "      <th>Wealth</th>\n",
       "      <th>Age group</th>\n",
       "      <th>Location</th>\n",
       "    </tr>\n",
       "  </thead>\n",
       "  <tbody>\n",
       "    <tr>\n",
       "      <th>995</th>\n",
       "      <td>996</td>\n",
       "      <td>1.200099</td>\n",
       "      <td>18 to 34</td>\n",
       "      <td>Europe</td>\n",
       "    </tr>\n",
       "    <tr>\n",
       "      <th>996</th>\n",
       "      <td>997</td>\n",
       "      <td>0.399036</td>\n",
       "      <td>18 to 34</td>\n",
       "      <td>America</td>\n",
       "    </tr>\n",
       "    <tr>\n",
       "      <th>997</th>\n",
       "      <td>998</td>\n",
       "      <td>1.932089</td>\n",
       "      <td>50 to 64</td>\n",
       "      <td>Asia Pacific</td>\n",
       "    </tr>\n",
       "    <tr>\n",
       "      <th>998</th>\n",
       "      <td>999</td>\n",
       "      <td>1.898452</td>\n",
       "      <td>50 to 64</td>\n",
       "      <td>Europe</td>\n",
       "    </tr>\n",
       "    <tr>\n",
       "      <th>999</th>\n",
       "      <td>1000</td>\n",
       "      <td>2.366679</td>\n",
       "      <td>50 to 64</td>\n",
       "      <td>America</td>\n",
       "    </tr>\n",
       "  </tbody>\n",
       "</table>\n",
       "</div>"
      ],
      "text/plain": [
       "     User ID    Wealth Age group      Location\n",
       "995      996  1.200099  18 to 34        Europe\n",
       "996      997  0.399036  18 to 34       America\n",
       "997      998  1.932089  50 to 64  Asia Pacific\n",
       "998      999  1.898452  50 to 64        Europe\n",
       "999     1000  2.366679  50 to 64       America"
      ]
     },
     "execution_count": 260,
     "metadata": {},
     "output_type": "execute_result"
    }
   ],
   "source": [
    "new_user_demographics.tail()"
   ]
  },
  {
   "cell_type": "markdown",
   "metadata": {
    "tags": []
   },
   "source": [
    "### 2a) Predictions for new users [Simple]"
   ]
  },
  {
   "cell_type": "markdown",
   "metadata": {},
   "source": [
    "<font color='blue'> Fill in the following function that takes in: the demographics of a single new user, the demographics of all the existing users in your platform, and the user vectors of all the existing users, and outputs a 'predicted' user vector for the new user to use until we get enough data for that user. \n",
    "    \n",
    "<font color='blue'> For this question, we ask you to use the following simple method to construct the vector for the new user. Each user is classified as \"Low\" or \"High\" wealth based on whether their Wealth score is below or above the median of 1.70. Then, we simply construct a mean user vector for \"Low\" and \"High\" wealth, based on the 900 users (take the average vector among users with \"Low\" and \"High\" Wealth, respectively.). The correpsonding mean vector is then used for each new user. \n",
    "\n",
    "For example, using this method, you should find that the vector for the second user (index \"1\") is:\n",
    "\n",
    "array([-0.183, -0.149, -0.141, -0.199, -0.166, -0.272, -0.02 ,  0.137,\n",
    "       -0.12 ,  0.022])"
   ]
  },
  {
   "cell_type": "code",
   "execution_count": 165,
   "metadata": {},
   "outputs": [
    {
     "data": {
      "text/plain": [
       "1.7026180771992308"
      ]
     },
     "execution_count": 165,
     "metadata": {},
     "output_type": "execute_result"
    }
   ],
   "source": [
    "existing_user_demographics.Wealth.median()"
   ]
  },
  {
   "cell_type": "code",
   "execution_count": 415,
   "metadata": {},
   "outputs": [],
   "source": [
    "def get_user_vector_for_new_user(new_user, existing_user_demographics, existing_user_vectors):\n",
    "    med = existing_user_demographics.Wealth.median()\n",
    "    high_user_id = existing_user_demographics['User ID'][existing_user_demographics.Wealth>=med]\n",
    "    high_user_index = high_user_id - 1\n",
    "    low_user_id = existing_user_demographics['User ID'][existing_user_demographics.Wealth<med]\n",
    "    low_user_index = low_user_id - 1\n",
    "    \n",
    "    new_user_wealth = float(new_user['Wealth'])\n",
    "    \n",
    "    if new_user_wealth >= existing_user_demographics.Wealth.median():\n",
    "        mean_vector = [0]*len(existing_user_vectors[0,])\n",
    "        for i in high_user_index:\n",
    "            for j in range(len(existing_user_vectors[0,])):\n",
    "                mean_vector[j] = mean_vector[j] + existing_user_vectors[i,][j]\n",
    "        \n",
    "        denom = len(high_user_index)\n",
    "        mean_vec = [n/denom for n in mean_vector]\n",
    "    else:\n",
    "        mean_vector = [0]*len(existing_user_vectors[0,])\n",
    "        for i in low_user_index:\n",
    "            for j in range(len(existing_user_vectors[0,])):\n",
    "                mean_vector[j] = mean_vector[j] + existing_user_vectors[i,][j] \n",
    "        \n",
    "        denom = len(low_user_index)\n",
    "        mean_vec = [n/denom for n in mean_vector]\n",
    "    \n",
    "    return mean_vec\n",
    "\n",
    "    pass"
   ]
  },
  {
   "cell_type": "code",
   "execution_count": 417,
   "metadata": {
    "scrolled": true
   },
   "outputs": [
    {
     "data": {
      "text/plain": [
       "[-0.1826405719867348,\n",
       " -0.14885829817234567,\n",
       " -0.14115050600279888,\n",
       " -0.19928868128579724,\n",
       " -0.16599773954016595,\n",
       " -0.2724359920597968,\n",
       " -0.01999898170673064,\n",
       " 0.13722252087761794,\n",
       " -0.1197559344188566,\n",
       " 0.02165247013145053]"
      ]
     },
     "execution_count": 417,
     "metadata": {},
     "output_type": "execute_result"
    }
   ],
   "source": [
    "# Vector for second user\n",
    "(new_user_demographics.iloc[1], existing_user_demographics, existing_user_vectors)"
   ]
  },
  {
   "cell_type": "code",
   "execution_count": 155,
   "metadata": {},
   "outputs": [],
   "source": [
    "#med = existing_user_demographics.Wealth.median = existing_user_demographics['User ID'][existing_user_demographics.Wealth>=existing_user_demographics.Wealth.median()]"
   ]
  },
  {
   "cell_type": "code",
   "execution_count": 171,
   "metadata": {},
   "outputs": [
    {
     "data": {
      "text/plain": [
       "2.4393775375938045"
      ]
     },
     "execution_count": 171,
     "metadata": {},
     "output_type": "execute_result"
    }
   ],
   "source": [
    "new_user_wealth = float(new_user_demographics['Wealth'][new_user_demographics['User ID'] == 902])\n",
    "new_user_wealth"
   ]
  },
  {
   "cell_type": "code",
   "execution_count": 184,
   "metadata": {},
   "outputs": [
    {
     "data": {
      "text/plain": [
       "User ID           901\n",
       "Wealth       0.731783\n",
       "Age group    35 to 49\n",
       "Location      America\n",
       "Name: 900, dtype: object"
      ]
     },
     "execution_count": 184,
     "metadata": {},
     "output_type": "execute_result"
    }
   ],
   "source": [
    "new_user_demographics.iloc[0]"
   ]
  },
  {
   "cell_type": "code",
   "execution_count": 151,
   "metadata": {},
   "outputs": [
    {
     "data": {
      "text/plain": [
       "900    0.731783\n",
       "Name: Wealth, dtype: float64"
      ]
     },
     "execution_count": 151,
     "metadata": {},
     "output_type": "execute_result"
    }
   ],
   "source": [
    "new_user_wealth = new_user_demographics['Wealth'][new_user_demographics['User ID'] == 901]\n",
    "new_user_wealth"
   ]
  },
  {
   "cell_type": "markdown",
   "metadata": {},
   "source": [
    "<font color='blue'> Output the mean vector predicted for the first user (index 0) in `new_user_demographics`. "
   ]
  },
  {
   "cell_type": "code",
   "execution_count": 418,
   "metadata": {
    "scrolled": true
   },
   "outputs": [
    {
     "data": {
      "text/plain": [
       "[0.08780943150811217,\n",
       " -0.20709913353749781,\n",
       " -0.17762736410299737,\n",
       " -0.13094589164366768,\n",
       " -0.08942902403642827,\n",
       " -0.12702041629128474,\n",
       " -0.12242307839294987,\n",
       " -0.4268105867406346,\n",
       " -0.057752848850433,\n",
       " -0.10569089870005266]"
      ]
     },
     "execution_count": 418,
     "metadata": {},
     "output_type": "execute_result"
    }
   ],
   "source": [
    "# Vector for the first user\n",
    "get_user_vector_for_new_user(new_user_demographics.iloc[0], existing_user_demographics, existing_user_vectors)"
   ]
  },
  {
   "cell_type": "code",
   "execution_count": 542,
   "metadata": {
    "scrolled": true
   },
   "outputs": [],
   "source": [
    "#new_user_demographics.head()"
   ]
  },
  {
   "cell_type": "code",
   "execution_count": 543,
   "metadata": {},
   "outputs": [],
   "source": [
    "#[1,2,3]+[3,4,5]"
   ]
  },
  {
   "cell_type": "markdown",
   "metadata": {
    "tags": []
   },
   "source": [
    "### 2b) [Bonus, 3 points] Predictions for new users [Using KNN or another model]"
   ]
  },
  {
   "cell_type": "markdown",
   "metadata": {},
   "source": [
    "<font color='blue'> Fill in the following function that takes in: the demographics of a single new user, the demographics of all the existing users in your platform, and the user vectors of all the existing users, and outputs a 'predicted' user vector for the new user to use until we get enough data for that user. \n",
    "    \n",
    "<font color='blue'> Now, use K nearest neighbors or some other machine learning method. \n",
    "    \n",
    "<font color='blue'> Feel free to prepare data/train a model outside this function, and then use your trained model within the function."
   ]
  },
  {
   "cell_type": "code",
   "execution_count": 222,
   "metadata": {},
   "outputs": [],
   "source": [
    "# get train and test data\n",
    "X_train = existing_user_demographics[['Wealth']]\n",
    "Y_train = pd.DataFrame(existing_user_vectors,columns=list('abcdefghij'))\n",
    "\n",
    "Y_train1 = Y_train[[\"a\"]]\n",
    "Y_train2 = Y_train[[\"b\"]]\n",
    "Y_train3 = Y_train[[\"c\"]]\n",
    "Y_train4 = Y_train[[\"d\"]]\n",
    "Y_train5 = Y_train[[\"e\"]]\n",
    "Y_train6 = Y_train[[\"f\"]]\n",
    "Y_train7 = Y_train[[\"g\"]]\n",
    "Y_train8 = Y_train[[\"h\"]]\n",
    "Y_train9 = Y_train[[\"i\"]]\n",
    "Y_train10 = Y_train[[\"j\"]]\n",
    "X_test = new_user_demographics[['Wealth']]"
   ]
  },
  {
   "cell_type": "code",
   "execution_count": 219,
   "metadata": {},
   "outputs": [],
   "source": [
    "# fit knn model\n",
    "from sklearn.neighbors import KNeighborsRegressor\n",
    "knn = KNeighborsRegressor(n_neighbors=7)"
   ]
  },
  {
   "cell_type": "code",
   "execution_count": 544,
   "metadata": {
    "scrolled": true
   },
   "outputs": [
    {
     "data": {
      "text/html": [
       "<div>\n",
       "<style scoped>\n",
       "    .dataframe tbody tr th:only-of-type {\n",
       "        vertical-align: middle;\n",
       "    }\n",
       "\n",
       "    .dataframe tbody tr th {\n",
       "        vertical-align: top;\n",
       "    }\n",
       "\n",
       "    .dataframe thead th {\n",
       "        text-align: right;\n",
       "    }\n",
       "</style>\n",
       "<table border=\"1\" class=\"dataframe\">\n",
       "  <thead>\n",
       "    <tr style=\"text-align: right;\">\n",
       "      <th></th>\n",
       "      <th>0</th>\n",
       "    </tr>\n",
       "  </thead>\n",
       "  <tbody>\n",
       "    <tr>\n",
       "      <th>0</th>\n",
       "      <td>0.044650</td>\n",
       "    </tr>\n",
       "    <tr>\n",
       "      <th>1</th>\n",
       "      <td>-0.169997</td>\n",
       "    </tr>\n",
       "    <tr>\n",
       "      <th>2</th>\n",
       "      <td>-0.540653</td>\n",
       "    </tr>\n",
       "    <tr>\n",
       "      <th>3</th>\n",
       "      <td>0.726120</td>\n",
       "    </tr>\n",
       "    <tr>\n",
       "      <th>4</th>\n",
       "      <td>0.272964</td>\n",
       "    </tr>\n",
       "  </tbody>\n",
       "</table>\n",
       "</div>"
      ],
      "text/plain": [
       "          0\n",
       "0  0.044650\n",
       "1 -0.169997\n",
       "2 -0.540653\n",
       "3  0.726120\n",
       "4  0.272964"
      ]
     },
     "execution_count": 544,
     "metadata": {},
     "output_type": "execute_result"
    }
   ],
   "source": [
    "Y_train = pd.DataFrame(existing_user_vectors)\n",
    "Y_train[[0]].head()"
   ]
  },
  {
   "cell_type": "code",
   "execution_count": 545,
   "metadata": {
    "scrolled": true
   },
   "outputs": [
    {
     "data": {
      "text/html": [
       "<div>\n",
       "<style scoped>\n",
       "    .dataframe tbody tr th:only-of-type {\n",
       "        vertical-align: middle;\n",
       "    }\n",
       "\n",
       "    .dataframe tbody tr th {\n",
       "        vertical-align: top;\n",
       "    }\n",
       "\n",
       "    .dataframe thead th {\n",
       "        text-align: right;\n",
       "    }\n",
       "</style>\n",
       "<table border=\"1\" class=\"dataframe\">\n",
       "  <thead>\n",
       "    <tr style=\"text-align: right;\">\n",
       "      <th></th>\n",
       "      <th>Wealth</th>\n",
       "    </tr>\n",
       "  </thead>\n",
       "  <tbody>\n",
       "    <tr>\n",
       "      <th>0</th>\n",
       "      <td>1.833101</td>\n",
       "    </tr>\n",
       "    <tr>\n",
       "      <th>1</th>\n",
       "      <td>2.194996</td>\n",
       "    </tr>\n",
       "    <tr>\n",
       "      <th>2</th>\n",
       "      <td>2.216195</td>\n",
       "    </tr>\n",
       "    <tr>\n",
       "      <th>3</th>\n",
       "      <td>0.838690</td>\n",
       "    </tr>\n",
       "    <tr>\n",
       "      <th>4</th>\n",
       "      <td>2.109313</td>\n",
       "    </tr>\n",
       "  </tbody>\n",
       "</table>\n",
       "</div>"
      ],
      "text/plain": [
       "     Wealth\n",
       "0  1.833101\n",
       "1  2.194996\n",
       "2  2.216195\n",
       "3  0.838690\n",
       "4  2.109313"
      ]
     },
     "execution_count": 545,
     "metadata": {},
     "output_type": "execute_result"
    }
   ],
   "source": [
    "existing_user_demographics[['Wealth']].head()"
   ]
  },
  {
   "cell_type": "code",
   "execution_count": 220,
   "metadata": {},
   "outputs": [
    {
     "data": {
      "text/plain": [
       "KNeighborsRegressor(n_neighbors=7)"
      ]
     },
     "execution_count": 220,
     "metadata": {},
     "output_type": "execute_result"
    }
   ],
   "source": [
    "# train the knn model\n",
    "knn.fit(X_train, Y_train)"
   ]
  },
  {
   "cell_type": "code",
   "execution_count": 225,
   "metadata": {
    "scrolled": false
   },
   "outputs": [
    {
     "data": {
      "text/plain": [
       "array([ 0.02581377,  0.47062082,  0.05965998, -0.02728158, -0.39707805,\n",
       "       -0.53513713, -0.14962663, -0.18856574, -0.01830705, -0.15077175])"
      ]
     },
     "execution_count": 225,
     "metadata": {},
     "output_type": "execute_result"
    }
   ],
   "source": [
    "# Test\n",
    "Y_test = knn.predict(X_test)\n",
    "Y_test[1]"
   ]
  },
  {
   "cell_type": "code",
   "execution_count": 546,
   "metadata": {},
   "outputs": [
    {
     "data": {
      "text/html": [
       "<div>\n",
       "<style scoped>\n",
       "    .dataframe tbody tr th:only-of-type {\n",
       "        vertical-align: middle;\n",
       "    }\n",
       "\n",
       "    .dataframe tbody tr th {\n",
       "        vertical-align: top;\n",
       "    }\n",
       "\n",
       "    .dataframe thead th {\n",
       "        text-align: right;\n",
       "    }\n",
       "</style>\n",
       "<table border=\"1\" class=\"dataframe\">\n",
       "  <thead>\n",
       "    <tr style=\"text-align: right;\">\n",
       "      <th></th>\n",
       "      <th>Wealth</th>\n",
       "    </tr>\n",
       "  </thead>\n",
       "  <tbody>\n",
       "    <tr>\n",
       "      <th>900</th>\n",
       "      <td>0.731783</td>\n",
       "    </tr>\n",
       "    <tr>\n",
       "      <th>901</th>\n",
       "      <td>2.439378</td>\n",
       "    </tr>\n",
       "    <tr>\n",
       "      <th>902</th>\n",
       "      <td>1.760649</td>\n",
       "    </tr>\n",
       "    <tr>\n",
       "      <th>903</th>\n",
       "      <td>2.582320</td>\n",
       "    </tr>\n",
       "    <tr>\n",
       "      <th>904</th>\n",
       "      <td>1.888599</td>\n",
       "    </tr>\n",
       "  </tbody>\n",
       "</table>\n",
       "</div>"
      ],
      "text/plain": [
       "       Wealth\n",
       "900  0.731783\n",
       "901  2.439378\n",
       "902  1.760649\n",
       "903  2.582320\n",
       "904  1.888599"
      ]
     },
     "execution_count": 546,
     "metadata": {},
     "output_type": "execute_result"
    }
   ],
   "source": [
    "X_test.head()"
   ]
  },
  {
   "cell_type": "code",
   "execution_count": 249,
   "metadata": {},
   "outputs": [
    {
     "data": {
      "text/plain": [
       "Wealth    0.731783\n",
       "Name: 900, dtype: float64"
      ]
     },
     "execution_count": 249,
     "metadata": {},
     "output_type": "execute_result"
    }
   ],
   "source": [
    "X_test.iloc[901-901,:]"
   ]
  },
  {
   "cell_type": "code",
   "execution_count": 254,
   "metadata": {},
   "outputs": [],
   "source": [
    "def get_user_vector_for_new_user_knn(new_user, existing_user_demographics, existing_user_vectors):\n",
    "    Y_test = knn.predict(X_test)\n",
    "    Y_test_user = Y_test[new_user-901]\n",
    "    \n",
    "    return Y_test_user\n",
    "    pass"
   ]
  },
  {
   "cell_type": "markdown",
   "metadata": {},
   "source": [
    "<font color='blue'> Output the mean vector predicted for the first user in `new_user_demographics`. "
   ]
  },
  {
   "cell_type": "code",
   "execution_count": 257,
   "metadata": {
    "scrolled": true
   },
   "outputs": [
    {
     "data": {
      "text/plain": [
       "array([ 0.275254  , -0.47136138, -0.06205648,  0.00724781, -0.03062565,\n",
       "        0.06751677,  0.00221243, -0.98452225,  0.10262224, -0.44717048])"
      ]
     },
     "execution_count": 257,
     "metadata": {},
     "output_type": "execute_result"
    }
   ],
   "source": [
    "get_user_vector_for_new_user_knn(901, existing_user_demographics, existing_user_vectors)"
   ]
  },
  {
   "cell_type": "markdown",
   "metadata": {},
   "source": [
    "<font color='blue'> Justify your choice of model. If you used K nearest neighbors, then how did you decide upon your distance function? If you used another model, how does that model weight the different demographics in importance (either implicitly or explicitly)?"
   ]
  },
  {
   "cell_type": "markdown",
   "metadata": {},
   "source": [
    "I used euclidean distance because it can adjust for positive and negative differences. The euclidean distance allows us to find the closest users based on wealth, either more wealthy or less wealthy."
   ]
  },
  {
   "cell_type": "markdown",
   "metadata": {},
   "source": [
    "### 2c) Comparing predictions from \"true\" user vector and from above"
   ]
  },
  {
   "cell_type": "markdown",
   "metadata": {},
   "source": [
    "<font color='blue'> For each of the 100 \"new\" users, use either your model from 2a or 2b (\"demographic model\") to retrieve a user vector for that user, and then your functions from Problem 1 to get predicted ratings and top-10 recommendations. First, plot a scatterplot between the ratings predicted by the demographic model and the ratings predicted by the full model from Problem 1. Each point in the scatter plot should correspond to one user and one item, and so your scatterplot should have 100*200 points.  \n",
    "\n",
    "For example, for the first user-item pair (index 0 user, index 0 user), your prediction using the basic demographic should be -0.0011902780252621872, and using the full model should be 0.31447640890118356. So one point in the scatter plot would be (-0.0011902780252621872, 0.31447640890118356)."
   ]
  },
  {
   "cell_type": "code",
   "execution_count": 419,
   "metadata": {},
   "outputs": [],
   "source": [
    "demo_ratings = []\n",
    "\n",
    "for i in range(100):\n",
    "    my_vec = get_user_vector_for_new_user(new_user_demographics.iloc[i], existing_user_demographics, existing_user_vectors)\n",
    "    demo_ratings.append(my_vec)"
   ]
  },
  {
   "cell_type": "code",
   "execution_count": 424,
   "metadata": {
    "scrolled": true
   },
   "outputs": [
    {
     "data": {
      "text/plain": [
       "array([[-0.00119028,  0.18884608,  0.20055007, ...,  0.30114592,\n",
       "        -0.24560053,  0.67878288],\n",
       "       [ 0.13441526,  0.01818163,  0.19213659, ...,  0.35144349,\n",
       "        -0.16471235,  0.50977841],\n",
       "       [ 0.13441526,  0.01818163,  0.19213659, ...,  0.35144349,\n",
       "        -0.16471235,  0.50977841],\n",
       "       ...,\n",
       "       [ 0.13441526,  0.01818163,  0.19213659, ...,  0.35144349,\n",
       "        -0.16471235,  0.50977841],\n",
       "       [ 0.13441526,  0.01818163,  0.19213659, ...,  0.35144349,\n",
       "        -0.16471235,  0.50977841],\n",
       "       [ 0.13441526,  0.01818163,  0.19213659, ...,  0.35144349,\n",
       "        -0.16471235,  0.50977841]])"
      ]
     },
     "execution_count": 424,
     "metadata": {},
     "output_type": "execute_result"
    }
   ],
   "source": [
    "predicted_ratings = get_predictions(demo_ratings, book_vectors_interact0)\n",
    "predicted_ratings"
   ]
  },
  {
   "cell_type": "code",
   "execution_count": 423,
   "metadata": {
    "scrolled": true
   },
   "outputs": [
    {
     "data": {
      "text/plain": [
       "-0.0011902780252621872"
      ]
     },
     "execution_count": 423,
     "metadata": {},
     "output_type": "execute_result"
    }
   ],
   "source": [
    "predicted_ratings[0][0]"
   ]
  },
  {
   "cell_type": "code",
   "execution_count": 425,
   "metadata": {},
   "outputs": [],
   "source": [
    "true_predicted_ratings = get_predictions(user_vectors_interact0, book_vectors_interact0)[900:,]"
   ]
  },
  {
   "cell_type": "code",
   "execution_count": 426,
   "metadata": {},
   "outputs": [
    {
     "data": {
      "text/plain": [
       "array([[ 0.31447641, -1.66492659,  0.39016051, ..., -0.25276746,\n",
       "        -1.84008895, -1.07073751],\n",
       "       [-0.97748186,  1.0648243 ,  0.45444794, ...,  0.38685798,\n",
       "         1.73858664,  3.18561122],\n",
       "       [ 1.14565726,  0.91187033,  0.78608703, ...,  0.91916069,\n",
       "        -1.35554325,  0.32884785],\n",
       "       ...,\n",
       "       [-3.14278052, -3.77435012, -2.20878348, ...,  1.44875673,\n",
       "        -0.45343215,  1.05308483],\n",
       "       [-1.605251  ,  0.25846803, -0.03895443, ...,  0.9040176 ,\n",
       "        -0.19206943,  2.50997487],\n",
       "       [-1.37437046, -2.93467293, -0.81126336, ...,  0.88733235,\n",
       "         0.03454073,  2.34293767]])"
      ]
     },
     "execution_count": 426,
     "metadata": {},
     "output_type": "execute_result"
    }
   ],
   "source": [
    "true_predicted_ratings"
   ]
  },
  {
   "cell_type": "code",
   "execution_count": 429,
   "metadata": {},
   "outputs": [
    {
     "data": {
      "image/png": "[encoded data removed]",
      "text/plain": [
       "<Figure size 432x288 with 1 Axes>"
      ]
     },
     "metadata": {
      "needs_background": "light"
     },
     "output_type": "display_data"
    }
   ],
   "source": [
    "plt.scatter(predicted_ratings,true_predicted_ratings)\n",
    "plt.xlabel('Predicted rating')\n",
    "plt.ylabel('True rating')\n",
    "plt.show()"
   ]
  },
  {
   "cell_type": "markdown",
   "metadata": {},
   "source": [
    "<font color='blue'> Now for each new user, calculate the mean rating (according to the \"full\" model in Problem 1) for the 10 items recommended to that user, by each of the demopgraphic and \"full\" models. Output a scatterplot for the two mean ratings, where each point correpsonds to 1 user (and so you will have 100 points in your scatter plot). For example, for the first new user, the associated point is (2.4880867541832146, 0.5305243424156764). "
   ]
  },
  {
   "cell_type": "code",
   "execution_count": 436,
   "metadata": {},
   "outputs": [],
   "source": [
    "pred_mean_lst = []\n",
    "true_mean_lst = []\n",
    "for i in range(len(predicted_ratings)):\n",
    "    pred_sort_lst = sorted(predicted_ratings[i])[-10:]\n",
    "    true_sort_lst = sorted(true_predicted_ratings[i])[-10:]\n",
    "    pred_mean = np.mean(pred_sort_lst)\n",
    "    true_mean = np.mean(true_sort_lst)\n",
    "    \n",
    "    pred_mean_lst.append(pred_mean)\n",
    "    true_mean_lst.append(true_mean)\n",
    "    "
   ]
  },
  {
   "cell_type": "code",
   "execution_count": 441,
   "metadata": {},
   "outputs": [
    {
     "name": "stdout",
     "output_type": "stream",
     "text": [
      "2.4880867541832146 0.9887872316439905\n"
     ]
    }
   ],
   "source": [
    "print(true_mean_lst[0],pred_mean_lst[0])"
   ]
  },
  {
   "cell_type": "code",
   "execution_count": 547,
   "metadata": {},
   "outputs": [],
   "source": [
    "#sorted(predicted_ratings[0])"
   ]
  },
  {
   "cell_type": "code",
   "execution_count": 445,
   "metadata": {},
   "outputs": [
    {
     "data": {
      "image/png": "[encoded data removed]",
      "text/plain": [
       "<Figure size 432x288 with 1 Axes>"
      ]
     },
     "metadata": {
      "needs_background": "light"
     },
     "output_type": "display_data"
    }
   ],
   "source": [
    "plt.scatter(true_mean_lst,pred_mean_lst)\n",
    "plt.xlabel('True mean rating')\n",
    "plt.ylabel('Predicted mean rating')\n",
    "plt.show()"
   ]
  },
  {
   "cell_type": "markdown",
   "metadata": {},
   "source": [
    "<font color='blue'> Comment on the above. What is the \"loss\" from using demogprahics since we do not have access to the full data?"
   ]
  },
  {
   "cell_type": "markdown",
   "metadata": {},
   "source": [
    "Performance is really bad because we only have two choices of predicted user vectors using the demographic data with identifying new users as high wealth or low wealth. We are using the demographic data to vaguely estimate the user behavior, for example, whether they interact with the book and leave a rating, and the estimated result is not very accurate. "
   ]
  },
  {
   "cell_type": "markdown",
   "metadata": {},
   "source": [
    "# Problem 3: Predictions under capacity constraints"
   ]
  },
  {
   "cell_type": "markdown",
   "metadata": {},
   "source": [
    "Above, you should have observed that if we just recommend the top items for each user, some items get recommended quite a bit, and many items do not get recommended at all. Here, we are going to ask you to implement recommendations under capacity constraints.\n",
    "\n",
    "Throughout this part, assume that you only have 5 copies of each item that you recommend, and that you will only recommend 1 item to each user. In other words, you cannot recommend the same item more than 5 times, and so there are exactly 1000 items in stock (representing 200 unique books) for your 1000 users. \n",
    "\n",
    "We'll continue exclusively using the \"ratings with interaction0\" data."
   ]
  },
  {
   "cell_type": "markdown",
   "metadata": {},
   "source": [
    "Now, let's assume that users are entering the platform sequentially in order of index. So the index 0 user comes first, index 1 user comes second, etc. "
   ]
  },
  {
   "cell_type": "markdown",
   "metadata": {},
   "source": [
    "### 3a) Naive recommendations under capacity constraints"
   ]
  },
  {
   "cell_type": "markdown",
   "metadata": {},
   "source": [
    "<font color='blue'> First, let's pretend that we were naively recommending the predicted favorite item to each user. Of course, with unlimited capacity, each user would be recommended their predicted favorite. With capacity constraints, the favorite items of the users who come in later might already have reached their capacity, and so they have to be recommended an item further down their list. \n",
    "    \n",
    "<font color='blue'> Do the following: simulate users coming in sequentially, in order of index. For each user, recommend to them their predicted favorite item that is still available. So the first user will get their favorite item, but the last few users will almost certainly not receive any of their top few predicted items. For each user, keep track of what the rank of the item that they were ultimately recommended was, according to the predicting ranking over items for that user.\n",
    "    \n",
    "For example, you'll see that the first user was recommended their favorite item, but the last user was recommended their 129th favorite item. \n",
    "\n",
    "\n",
    "<font color='blue'> Plot the resulting rankings in 2 ways: 1) A line plot, where the X axis is the user index and the Y axis is the rank of the item that they were recommended. and 2) A histogram of how often each rank shows up. (the X axis is the (binned) rank, and the Y axis is the count of that bin). "
   ]
  },
  {
   "cell_type": "code",
   "execution_count": 342,
   "metadata": {},
   "outputs": [],
   "source": [
    "all_recommendations = get_recommendations_for_each_user(interact0, 200)"
   ]
  },
  {
   "cell_type": "code",
   "execution_count": 343,
   "metadata": {},
   "outputs": [],
   "source": [
    "item_lst = list(range(200))*5"
   ]
  },
  {
   "cell_type": "code",
   "execution_count": 548,
   "metadata": {},
   "outputs": [],
   "source": [
    "#all_recommendations"
   ]
  },
  {
   "cell_type": "code",
   "execution_count": 349,
   "metadata": {},
   "outputs": [],
   "source": [
    "recommendation = []\n",
    "recommendation_rank = []\n",
    "for i in range(1000):\n",
    "    k = 0\n",
    "    while True:\n",
    "        item = all_recommendations[str(i)][k]\n",
    "        if item in item_lst:\n",
    "            recommendation.append(item)\n",
    "            recommendation_rank.append(k)\n",
    "            item_lst.remove(item)\n",
    "            break\n",
    "        k += 1"
   ]
  },
  {
   "cell_type": "code",
   "execution_count": 354,
   "metadata": {
    "scrolled": true
   },
   "outputs": [],
   "source": [
    "recommendation_rank = [n+1 for n in recommendation_rank]"
   ]
  },
  {
   "cell_type": "code",
   "execution_count": 348,
   "metadata": {},
   "outputs": [
    {
     "data": {
      "text/plain": [
       "[1, 1, 1, 1, 1]"
      ]
     },
     "execution_count": 348,
     "metadata": {},
     "output_type": "execute_result"
    }
   ],
   "source": [
    "l1 = [1,1,1,1,1,1]\n",
    "l1.remove(1)\n",
    "l1"
   ]
  },
  {
   "cell_type": "code",
   "execution_count": 359,
   "metadata": {
    "scrolled": true
   },
   "outputs": [
    {
     "data": {
      "image/png": "[encoded data removed]",
      "text/plain": [
       "<Figure size 432x288 with 1 Axes>"
      ]
     },
     "metadata": {
      "needs_background": "light"
     },
     "output_type": "display_data"
    }
   ],
   "source": [
    "# line graph\n",
    "plt.plot(range(1000),recommendation_rank)\n",
    "plt.xlabel('User Index')\n",
    "plt.ylabel('Rank of Recommendation')\n",
    "plt.show()"
   ]
  },
  {
   "cell_type": "code",
   "execution_count": 523,
   "metadata": {
    "scrolled": true
   },
   "outputs": [
    {
     "data": {
      "image/png": "[encoded data removed]",
      "text/plain": [
       "<Figure size 432x288 with 1 Axes>"
      ]
     },
     "metadata": {
      "needs_background": "light"
     },
     "output_type": "display_data"
    }
   ],
   "source": [
    "plt.hist(recommendation_rank, bins=50)\n",
    "plt.xlabel(\"Rank\")\n",
    "plt.ylabel('Density')\n",
    "plt.show()"
   ]
  },
  {
   "cell_type": "markdown",
   "metadata": {},
   "source": [
    "### 3b) [Bonus -- 4 pts] Optimal recommendations under capacity constraints -- maximum weight matching"
   ]
  },
  {
   "cell_type": "markdown",
   "metadata": {},
   "source": [
    "[2 points] <font color='blue'> Now let's do \"optimal\" recommendations with capacity, using maximum weight matching. Create the same two plots as above. <font color='blue'> Describe what you observe compared to the naive recommendations above. \n",
    "    \n",
    "<font color='blue'>We suggest you use the `scipy.optimize.linear_sum_assignment` function. In that case, `np.tile` might also come in handy to create 5 copies of each items.  "
   ]
  },
  {
   "cell_type": "code",
   "execution_count": 456,
   "metadata": {},
   "outputs": [],
   "source": [
    "# create cost martix\n",
    "cost_matrix = []\n",
    "for i in range(200):\n",
    "    item_user = []\n",
    "    for j in range(1000):\n",
    "        item_user.append(interact0[j][i])\n",
    "    cost_matrix.append(item_user)\n",
    "    cost_matrix.append(item_user)\n",
    "    cost_matrix.append(item_user)\n",
    "    cost_matrix.append(item_user)\n",
    "    cost_matrix.append(item_user)"
   ]
  },
  {
   "cell_type": "code",
   "execution_count": 457,
   "metadata": {},
   "outputs": [],
   "source": [
    "cost_matrix = np.array(cost_matrix)"
   ]
  },
  {
   "cell_type": "code",
   "execution_count": 458,
   "metadata": {},
   "outputs": [
    {
     "data": {
      "text/plain": [
       "3609.03740777127"
      ]
     },
     "execution_count": 458,
     "metadata": {},
     "output_type": "execute_result"
    }
   ],
   "source": [
    "cost = cost_matrix.copy()\n",
    "from scipy.optimize import linear_sum_assignment\n",
    "row_ind, col_ind = linear_sum_assignment(cost, maximize=True)\n",
    "\n",
    "cost[row_ind, col_ind].sum()"
   ]
  },
  {
   "cell_type": "code",
   "execution_count": 549,
   "metadata": {},
   "outputs": [],
   "source": [
    "#col_ind"
   ]
  },
  {
   "cell_type": "code",
   "execution_count": 465,
   "metadata": {},
   "outputs": [],
   "source": [
    "rank_optimized = []\n",
    "for i in range(len(col_ind)):\n",
    "    find_index = all_recommendations[str(col_ind[i])].index(i//5)\n",
    "    rank_optimized.append(find_index)"
   ]
  },
  {
   "cell_type": "code",
   "execution_count": 550,
   "metadata": {
    "scrolled": true
   },
   "outputs": [],
   "source": [
    "#rank_optimized"
   ]
  },
  {
   "cell_type": "code",
   "execution_count": 470,
   "metadata": {},
   "outputs": [],
   "source": [
    "user_rank = []\n",
    "for i in range(1000):\n",
    "    user_rank.append((col_ind[i],rank_optimized[i]))"
   ]
  },
  {
   "cell_type": "code",
   "execution_count": 551,
   "metadata": {},
   "outputs": [],
   "source": [
    "user_rank_sorted = sorted(user_rank)\n",
    "#user_rank_sorted"
   ]
  },
  {
   "cell_type": "code",
   "execution_count": 477,
   "metadata": {},
   "outputs": [],
   "source": [
    "rank_sorted = []\n",
    "for i in range(1000):\n",
    "    rank_sorted.append(user_rank_sorted[i][1])"
   ]
  },
  {
   "cell_type": "code",
   "execution_count": 552,
   "metadata": {
    "scrolled": true
   },
   "outputs": [
    {
     "data": {
      "image/png": "[encoded data removed]",
      "text/plain": [
       "<Figure size 432x288 with 1 Axes>"
      ]
     },
     "metadata": {
      "needs_background": "light"
     },
     "output_type": "display_data"
    }
   ],
   "source": [
    "plt.plot(range(1000), rank_sorted)\n",
    "plt.xlabel('user')\n",
    "plt.ylabel('rank')\n",
    "plt.show()"
   ]
  },
  {
   "cell_type": "code",
   "execution_count": 480,
   "metadata": {
    "scrolled": true
   },
   "outputs": [
    {
     "data": {
      "image/png": "[encoded data removed]",
      "text/plain": [
       "<Figure size 432x288 with 1 Axes>"
      ]
     },
     "metadata": {
      "needs_background": "light"
     },
     "output_type": "display_data"
    }
   ],
   "source": [
    "plt.hist(rank_sorted, bins=50)\n",
    "plt.xlabel(\"Rank\")\n",
    "plt.ylabel('Density')\n",
    "plt.show()"
   ]
  },
  {
   "cell_type": "markdown",
   "metadata": {},
   "source": [
    "We can see that the rank each user get seemed not related to the order they get in. And the the number of users who get recommended a large rank decreases by using maximum weight matching compared to using naive approach. Also, the rank is more balanced among those users, which keep most users receive a relatively satisfied item."
   ]
  },
  {
   "cell_type": "markdown",
   "metadata": {},
   "source": [
    "[2 points] <font color='blue'> Of course, in reality you don't observe all the users at the same time -- they come in one by one, and you need to create a recommendation for the first user before the 50th user shows up. Here's let's pretend that users show up in batches of 100. So the first 100 users at the same time, next 100, etc. In this case, you can do \"batched maximum weight matching,\" where you run maximum weight matching for the first 100 together to determine recommendations. Then, you do the same thing for the next 100 users with the items that are remaining, etc. \n",
    "    \n",
    "<font color='blue'> Implement the above, show the same two plots as above, and describe what you observe. Note that this part requires careful attention for how many of each item remain after each round. "
   ]
  },
  {
   "cell_type": "code",
   "execution_count": 553,
   "metadata": {},
   "outputs": [],
   "source": [
    "#"
   ]
  },
  {
   "cell_type": "markdown",
   "metadata": {},
   "source": [
    "### 3c) Score functions for recommendations under capacity constraints"
   ]
  },
  {
   "cell_type": "markdown",
   "metadata": {},
   "source": [
    "<font color='blue'>Here, we are working with just 200 items and 1000 users, and so batched maximum weight matching is feasible to run. In practice, with millions of items, that  might not be an effective strategy. Now, we ask you to implement the score function approach from class.\n",
    "\n",
    "<font color='blue'> You should normalize the predicted ratings between 0 and 1 so that you are not dividing by a negative or close to 0 average rating before proceeding.\n",
    "    \n",
    "<font color='blue'> Implement the above and run the same simulation as part 3a, show the same two plots, and describe what you observe."
   ]
  },
  {
   "cell_type": "markdown",
   "metadata": {},
   "source": [
    "<font color='blue'> For this part, use the following score function:\n",
    "    \n",
    "$$\\frac{r_{ij}}{\\bar{r_{j}}} \\sqrt{C_j} $$\n",
    "\n",
    "HINT: In your code, for each user $i$ you will:\n",
    "1. Retrieve the ratings ${r_{ij}}$ for each item $j$. \n",
    "2. Normalize each  ${r_{ij}}$ for by mean item rating $r_j$ and multiply by the sqrt of the current capacity for that item. \n",
    "3. Sort the items by the above modified score, and recommend the best item according to the modified score."
   ]
  },
  {
   "cell_type": "code",
   "execution_count": 482,
   "metadata": {},
   "outputs": [],
   "source": [
    "cost_df = pd.DataFrame(cost_matrix)"
   ]
  },
  {
   "cell_type": "code",
   "execution_count": 484,
   "metadata": {},
   "outputs": [
    {
     "data": {
      "text/html": [
       "<div>\n",
       "<style scoped>\n",
       "    .dataframe tbody tr th:only-of-type {\n",
       "        vertical-align: middle;\n",
       "    }\n",
       "\n",
       "    .dataframe tbody tr th {\n",
       "        vertical-align: top;\n",
       "    }\n",
       "\n",
       "    .dataframe thead th {\n",
       "        text-align: right;\n",
       "    }\n",
       "</style>\n",
       "<table border=\"1\" class=\"dataframe\">\n",
       "  <thead>\n",
       "    <tr style=\"text-align: right;\">\n",
       "      <th></th>\n",
       "      <th>0</th>\n",
       "      <th>1</th>\n",
       "      <th>2</th>\n",
       "      <th>3</th>\n",
       "      <th>4</th>\n",
       "      <th>5</th>\n",
       "      <th>6</th>\n",
       "      <th>7</th>\n",
       "      <th>8</th>\n",
       "      <th>9</th>\n",
       "      <th>...</th>\n",
       "      <th>990</th>\n",
       "      <th>991</th>\n",
       "      <th>992</th>\n",
       "      <th>993</th>\n",
       "      <th>994</th>\n",
       "      <th>995</th>\n",
       "      <th>996</th>\n",
       "      <th>997</th>\n",
       "      <th>998</th>\n",
       "      <th>999</th>\n",
       "    </tr>\n",
       "  </thead>\n",
       "  <tbody>\n",
       "    <tr>\n",
       "      <th>0</th>\n",
       "      <td>-1.008793</td>\n",
       "      <td>-0.958997</td>\n",
       "      <td>-0.733001</td>\n",
       "      <td>-1.742887</td>\n",
       "      <td>1.448059</td>\n",
       "      <td>-1.356457</td>\n",
       "      <td>-1.12415</td>\n",
       "      <td>2.324727</td>\n",
       "      <td>3.637265</td>\n",
       "      <td>-0.306029</td>\n",
       "      <td>...</td>\n",
       "      <td>-0.0251</td>\n",
       "      <td>0.089853</td>\n",
       "      <td>-0.887627</td>\n",
       "      <td>0.584737</td>\n",
       "      <td>-0.37194</td>\n",
       "      <td>-1.464153</td>\n",
       "      <td>0.856029</td>\n",
       "      <td>-3.142781</td>\n",
       "      <td>-1.605251</td>\n",
       "      <td>-1.37437</td>\n",
       "    </tr>\n",
       "    <tr>\n",
       "      <th>1</th>\n",
       "      <td>-1.008793</td>\n",
       "      <td>-0.958997</td>\n",
       "      <td>-0.733001</td>\n",
       "      <td>-1.742887</td>\n",
       "      <td>1.448059</td>\n",
       "      <td>-1.356457</td>\n",
       "      <td>-1.12415</td>\n",
       "      <td>2.324727</td>\n",
       "      <td>3.637265</td>\n",
       "      <td>-0.306029</td>\n",
       "      <td>...</td>\n",
       "      <td>-0.0251</td>\n",
       "      <td>0.089853</td>\n",
       "      <td>-0.887627</td>\n",
       "      <td>0.584737</td>\n",
       "      <td>-0.37194</td>\n",
       "      <td>-1.464153</td>\n",
       "      <td>0.856029</td>\n",
       "      <td>-3.142781</td>\n",
       "      <td>-1.605251</td>\n",
       "      <td>-1.37437</td>\n",
       "    </tr>\n",
       "    <tr>\n",
       "      <th>2</th>\n",
       "      <td>-1.008793</td>\n",
       "      <td>-0.958997</td>\n",
       "      <td>-0.733001</td>\n",
       "      <td>-1.742887</td>\n",
       "      <td>1.448059</td>\n",
       "      <td>-1.356457</td>\n",
       "      <td>-1.12415</td>\n",
       "      <td>2.324727</td>\n",
       "      <td>3.637265</td>\n",
       "      <td>-0.306029</td>\n",
       "      <td>...</td>\n",
       "      <td>-0.0251</td>\n",
       "      <td>0.089853</td>\n",
       "      <td>-0.887627</td>\n",
       "      <td>0.584737</td>\n",
       "      <td>-0.37194</td>\n",
       "      <td>-1.464153</td>\n",
       "      <td>0.856029</td>\n",
       "      <td>-3.142781</td>\n",
       "      <td>-1.605251</td>\n",
       "      <td>-1.37437</td>\n",
       "    </tr>\n",
       "    <tr>\n",
       "      <th>3</th>\n",
       "      <td>-1.008793</td>\n",
       "      <td>-0.958997</td>\n",
       "      <td>-0.733001</td>\n",
       "      <td>-1.742887</td>\n",
       "      <td>1.448059</td>\n",
       "      <td>-1.356457</td>\n",
       "      <td>-1.12415</td>\n",
       "      <td>2.324727</td>\n",
       "      <td>3.637265</td>\n",
       "      <td>-0.306029</td>\n",
       "      <td>...</td>\n",
       "      <td>-0.0251</td>\n",
       "      <td>0.089853</td>\n",
       "      <td>-0.887627</td>\n",
       "      <td>0.584737</td>\n",
       "      <td>-0.37194</td>\n",
       "      <td>-1.464153</td>\n",
       "      <td>0.856029</td>\n",
       "      <td>-3.142781</td>\n",
       "      <td>-1.605251</td>\n",
       "      <td>-1.37437</td>\n",
       "    </tr>\n",
       "    <tr>\n",
       "      <th>4</th>\n",
       "      <td>-1.008793</td>\n",
       "      <td>-0.958997</td>\n",
       "      <td>-0.733001</td>\n",
       "      <td>-1.742887</td>\n",
       "      <td>1.448059</td>\n",
       "      <td>-1.356457</td>\n",
       "      <td>-1.12415</td>\n",
       "      <td>2.324727</td>\n",
       "      <td>3.637265</td>\n",
       "      <td>-0.306029</td>\n",
       "      <td>...</td>\n",
       "      <td>-0.0251</td>\n",
       "      <td>0.089853</td>\n",
       "      <td>-0.887627</td>\n",
       "      <td>0.584737</td>\n",
       "      <td>-0.37194</td>\n",
       "      <td>-1.464153</td>\n",
       "      <td>0.856029</td>\n",
       "      <td>-3.142781</td>\n",
       "      <td>-1.605251</td>\n",
       "      <td>-1.37437</td>\n",
       "    </tr>\n",
       "  </tbody>\n",
       "</table>\n",
       "<p>5 rows × 1000 columns</p>\n",
       "</div>"
      ],
      "text/plain": [
       "        0         1         2         3         4         5        6    \\\n",
       "0 -1.008793 -0.958997 -0.733001 -1.742887  1.448059 -1.356457 -1.12415   \n",
       "1 -1.008793 -0.958997 -0.733001 -1.742887  1.448059 -1.356457 -1.12415   \n",
       "2 -1.008793 -0.958997 -0.733001 -1.742887  1.448059 -1.356457 -1.12415   \n",
       "3 -1.008793 -0.958997 -0.733001 -1.742887  1.448059 -1.356457 -1.12415   \n",
       "4 -1.008793 -0.958997 -0.733001 -1.742887  1.448059 -1.356457 -1.12415   \n",
       "\n",
       "        7         8         9    ...     990       991       992       993  \\\n",
       "0  2.324727  3.637265 -0.306029  ... -0.0251  0.089853 -0.887627  0.584737   \n",
       "1  2.324727  3.637265 -0.306029  ... -0.0251  0.089853 -0.887627  0.584737   \n",
       "2  2.324727  3.637265 -0.306029  ... -0.0251  0.089853 -0.887627  0.584737   \n",
       "3  2.324727  3.637265 -0.306029  ... -0.0251  0.089853 -0.887627  0.584737   \n",
       "4  2.324727  3.637265 -0.306029  ... -0.0251  0.089853 -0.887627  0.584737   \n",
       "\n",
       "       994       995       996       997       998      999  \n",
       "0 -0.37194 -1.464153  0.856029 -3.142781 -1.605251 -1.37437  \n",
       "1 -0.37194 -1.464153  0.856029 -3.142781 -1.605251 -1.37437  \n",
       "2 -0.37194 -1.464153  0.856029 -3.142781 -1.605251 -1.37437  \n",
       "3 -0.37194 -1.464153  0.856029 -3.142781 -1.605251 -1.37437  \n",
       "4 -0.37194 -1.464153  0.856029 -3.142781 -1.605251 -1.37437  \n",
       "\n",
       "[5 rows x 1000 columns]"
      ]
     },
     "execution_count": 484,
     "metadata": {},
     "output_type": "execute_result"
    }
   ],
   "source": [
    "cost_df.head()"
   ]
  },
  {
   "cell_type": "code",
   "execution_count": 486,
   "metadata": {},
   "outputs": [],
   "source": [
    "from sklearn import preprocessing\n",
    "# scaling numerical variables\n",
    "\n",
    "# define min max scaler\n",
    "scaler = preprocessing.MinMaxScaler()\n",
    "\n",
    "df_scaled = scaler.fit_transform(cost_df)"
   ]
  },
  {
   "cell_type": "code",
   "execution_count": 554,
   "metadata": {
    "scrolled": true
   },
   "outputs": [],
   "source": [
    "#df_scaled"
   ]
  },
  {
   "cell_type": "code",
   "execution_count": 500,
   "metadata": {},
   "outputs": [],
   "source": [
    "scaled_ratings = []\n",
    "for i in range(200):\n",
    "    scaled_ratings.append(list(df_scaled[i*5]))"
   ]
  },
  {
   "cell_type": "code",
   "execution_count": 501,
   "metadata": {},
   "outputs": [],
   "source": [
    "scaled_ratings = np.array(scaled_ratings)"
   ]
  },
  {
   "cell_type": "code",
   "execution_count": 555,
   "metadata": {
    "scrolled": true
   },
   "outputs": [],
   "source": [
    "#scaled_ratings"
   ]
  },
  {
   "cell_type": "code",
   "execution_count": 556,
   "metadata": {},
   "outputs": [],
   "source": [
    "mean_item_ratings = []\n",
    "for i in range(200):\n",
    "    mean_item_ratings.append(np.mean(scaled_ratings[i]))\n",
    "#mean_item_ratings"
   ]
  },
  {
   "cell_type": "code",
   "execution_count": 504,
   "metadata": {},
   "outputs": [],
   "source": [
    "scaled_user_ratings = scaled_ratings.transpose()"
   ]
  },
  {
   "cell_type": "code",
   "execution_count": 505,
   "metadata": {},
   "outputs": [
    {
     "data": {
      "text/plain": [
       "(1000, 200)"
      ]
     },
     "execution_count": 505,
     "metadata": {},
     "output_type": "execute_result"
    }
   ],
   "source": [
    "scaled_user_ratings.shape"
   ]
  },
  {
   "cell_type": "code",
   "execution_count": 507,
   "metadata": {},
   "outputs": [],
   "source": [
    "item_lst_new = list(range(200))*5"
   ]
  },
  {
   "cell_type": "code",
   "execution_count": 509,
   "metadata": {},
   "outputs": [],
   "source": [
    "rec_item = []\n",
    "rec_rank = []\n",
    "for i in range(1000):\n",
    "    process_user = scaled_user_ratings[i]\n",
    "    new_process_user = []\n",
    "    for j in range(200):\n",
    "        original_rating = process_user[j]\n",
    "        new_rating = (original_rating/mean_item_ratings[j])*np.sqrt(item_lst_new.count(j))\n",
    "        \n",
    "        new_process_user.append(new_rating)\n",
    "    new_rec = new_process_user.index(max(new_process_user))\n",
    "    rec_item.append(new_rec)\n",
    "    item_lst_new.remove(new_rec)   "
   ]
  },
  {
   "cell_type": "code",
   "execution_count": 557,
   "metadata": {},
   "outputs": [],
   "source": [
    "#rec_item"
   ]
  },
  {
   "cell_type": "code",
   "execution_count": 513,
   "metadata": {},
   "outputs": [],
   "source": [
    "rec_rank = []\n",
    "\n",
    "for i in range(1000):\n",
    "    item1 = rec_item[i]\n",
    "    rec_rank.append(all_recommendations[str(i)].index(item1))"
   ]
  },
  {
   "cell_type": "code",
   "execution_count": 515,
   "metadata": {},
   "outputs": [],
   "source": [
    "rec_rank = [n+1 for n in rec_rank ]"
   ]
  },
  {
   "cell_type": "code",
   "execution_count": 519,
   "metadata": {
    "scrolled": true
   },
   "outputs": [
    {
     "data": {
      "image/png": "[encoded data removed]",
      "text/plain": [
       "<Figure size 432x288 with 1 Axes>"
      ]
     },
     "metadata": {
      "needs_background": "light"
     },
     "output_type": "display_data"
    }
   ],
   "source": [
    "plt.plot(range(1000),rec_rank)\n",
    "plt.xlabel('User')\n",
    "plt.ylabel('Rank')\n",
    "plt.show()"
   ]
  },
  {
   "cell_type": "code",
   "execution_count": 521,
   "metadata": {},
   "outputs": [
    {
     "data": {
      "image/png": "[encoded data removed]",
      "text/plain": [
       "<Figure size 432x288 with 1 Axes>"
      ]
     },
     "metadata": {
      "needs_background": "light"
     },
     "output_type": "display_data"
    }
   ],
   "source": [
    "plt.hist(rec_rank, bins=50)\n",
    "plt.xlabel('Rank')\n",
    "plt.ylabel('Density')\n",
    "plt.show()"
   ]
  },
  {
   "cell_type": "markdown",
   "metadata": {},
   "source": [
    "We can see that even though users who later still tend to get higher ranked items, the phenomenon is mitigated compared to simple simulation. By applying the score function, our result is more balanced."
   ]
  },
  {
   "cell_type": "markdown",
   "metadata": {},
   "source": [
    "Comment for entire homework: In this homework, we haven't been careful with what is \"training\" data and what is \"test\" data. For example, in 3c, you're using average ratings from customers who haven't shown up yet in your simulation. In Problem 2, when training the user/book vectors we used data from customers that we are then pretending we haven't seen data from. In practice, and for the class project, you should be more careful. Such train/test/validation pipelines should be a core part of what you learn in machine learning classes. "
   ]
  },
  {
   "cell_type": "markdown",
   "metadata": {},
   "source": [
    "\\frac{r_{ij}\\sqrt{C_j}\\}"
   ]
  },
  {
   "cell_type": "code",
   "execution_count": null,
   "metadata": {},
   "outputs": [],
   "source": []
  }
 ],
 "metadata": {
  "kernelspec": {
   "display_name": "Python 3",
   "language": "python",
   "name": "python3"
  },
  "language_info": {
   "codemirror_mode": {
    "name": "ipython",
    "version": 3
   },
   "file_extension": ".py",
   "mimetype": "text/x-python",
   "name": "python",
   "nbconvert_exporter": "python",
   "pygments_lexer": "ipython3",
   "version": "3.8.8"
  },
  "varInspector": {
   "cols": {
    "lenName": 16,
    "lenType": 16,
    "lenVar": 40
   },
   "kernels_config": {
    "python": {
     "delete_cmd_postfix": "",
     "delete_cmd_prefix": "del ",
     "library": "var_list.py",
     "varRefreshCmd": "print(var_dic_list())"
    },
    "r": {
     "delete_cmd_postfix": ") ",
     "delete_cmd_prefix": "rm(",
     "library": "var_list.r",
     "varRefreshCmd": "cat(var_dic_list()) "
    }
   },
   "types_to_exclude": [
    "module",
    "function",
    "builtin_function_or_method",
    "instance",
    "_Feature"
   ],
   "window_display": false
  },
  "vscode": {
   "interpreter": {
    "hash": "08c7ecce80b69c620dde7c8919fa94d3baa2217d665b4d1ca74ed6f93561aaf3"
   }
  }
 },
 "nbformat": 4,
 "nbformat_minor": 4
}
